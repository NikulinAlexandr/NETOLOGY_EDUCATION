{
 "cells": [
  {
   "cell_type": "code",
   "execution_count": 2,
   "id": "87a629de",
   "metadata": {},
   "outputs": [],
   "source": [
    "file_purchase_log = open('C:\\\\Users\\\\alexn\\\\Documents\\\\Обучение\\\\DZ_5\\\\purchase_log.txt','r', encoding='utf-8')#Путь локальный. Для проверки - поменять на свой!!!\n",
    "#Создание словаря purchase \n",
    "file_purchase_log.readline()#для пропуска заголовков\n",
    "import json\n",
    "purchases={}\n",
    "for line in file_purchase_log:\n",
    "    line=json.loads(line)\n",
    "    purchases[line['user_id']] = line['category']\n",
    "#Заполнение файла funnel.csv. В файл попадают только данные, если покупка была\n",
    "file = open('C:\\\\Users\\\\alexn\\\\Documents\\\\Обучение\\\\DZ_5\\\\visit_log.csv','r', encoding='utf-8')\n",
    "#line=file.readline().strip().split(',')\n",
    "with open('C:\\\\Users\\\\alexn\\\\Documents\\\\Обучение\\\\DZ_5\\\\funnel.csv','w', encoding='utf-8') as file_wr:\n",
    "    file_wr.write('User_id,source,category\\n')\n",
    "    for el in file:\n",
    "        line=file.readline().strip().split(',')\n",
    "        if line[0] in purchases.keys():\n",
    "            line.append(purchases[line[0]])\n",
    "            file_wr.write(str(line[0]+','+line[1]+','+line[2]+'\\n'))"
   ]
  },
  {
   "cell_type": "code",
   "execution_count": null,
   "id": "634325d1",
   "metadata": {},
   "outputs": [],
   "source": [
    "### Далее части программы"
   ]
  },
  {
   "cell_type": "code",
   "execution_count": 19,
   "id": "705b6c5a",
   "metadata": {},
   "outputs": [
    {
     "name": "stdout",
     "output_type": "stream",
     "text": [
      "{'1840e0b9d4': 'Продукты', '4e4f90fcfb': 'Электроника', 'afea8d72fc': 'Электроника', '373a6055fe': 'Бытовая техника', '9b2ab046f3': 'Электроника', '9f39d307c3': 'Электроника'}\n"
     ]
    }
   ],
   "source": [
    "#1. создание словаря purchse (первые 5 строк)\n",
    "f = open('C:\\\\Users\\\\alexn\\\\Documents\\\\Обучение\\\\DZ_5\\\\purchase_log.txt','r', encoding='utf-8')\n",
    "f.readline()#для пропуска заголовков\n",
    "import json\n",
    "purchases={}\n",
    "i=0\n",
    "for line in f:\n",
    "    line=json.loads(line)\n",
    "    purchases[line['user_id']] = line['category']\n",
    "    i+=1\n",
    "    if i > 5:\n",
    "        break\n",
    "print(purchases)"
   ]
  },
  {
   "cell_type": "code",
   "execution_count": 89,
   "id": "e0d8e8d7",
   "metadata": {},
   "outputs": [],
   "source": [
    "# 2. запись в файл данных о покупках\n",
    "file = open('C:\\\\Users\\\\alexn\\\\Documents\\\\Обучение\\\\DZ_5\\\\visit_log.csv','r', encoding='utf-8')\n",
    "#line=file.readline().strip().split(',')\n",
    "with open('C:\\\\Users\\\\alexn\\\\Documents\\\\Обучение\\\\DZ_5\\\\funnel.csv','w', encoding='utf-8') as file_wr:\n",
    "    file_wr.write('User_id,source,category\\n')\n",
    "    for el in file:\n",
    "        line=file.readline().strip().split(',')\n",
    "        if line[0] in purchases.keys():\n",
    "            line.append(purchases[line[0]])\n",
    "            file_wr.write(str(line[0]+','+line[1]+','+line[2]+'\\n'))\n"
   ]
  }
 ],
 "metadata": {
  "kernelspec": {
   "display_name": "Python 3 (ipykernel)",
   "language": "python",
   "name": "python3"
  },
  "language_info": {
   "codemirror_mode": {
    "name": "ipython",
    "version": 3
   },
   "file_extension": ".py",
   "mimetype": "text/x-python",
   "name": "python",
   "nbconvert_exporter": "python",
   "pygments_lexer": "ipython3",
   "version": "3.9.7"
  }
 },
 "nbformat": 4,
 "nbformat_minor": 5
}

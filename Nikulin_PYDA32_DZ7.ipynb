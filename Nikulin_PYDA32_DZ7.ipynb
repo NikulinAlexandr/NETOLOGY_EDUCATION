{
 "cells": [
  {
   "cell_type": "code",
   "execution_count": 109,
   "id": "c71000c5",
   "metadata": {},
   "outputs": [],
   "source": [
    "#Задание 1"
   ]
  },
  {
   "cell_type": "code",
   "execution_count": 47,
   "id": "f0ea7b4a",
   "metadata": {},
   "outputs": [],
   "source": [
    "import requests\n",
    "def valute_name_max_val():\n",
    "    req = requests.get('https://www.cbr-xml-daily.ru/daily_json.js').json()\n",
    "    l1={}\n",
    "    for valute_nm in req['Valute']:\n",
    "        l1[req['Valute'][valute_nm]['Name']] = req['Valute'][valute_nm]['Value']\n",
    "    v_name_max_val = max(l1, key = lambda v_name: l1[v_name])\n",
    "    return v_name_max_val"
   ]
  },
  {
   "cell_type": "code",
   "execution_count": 48,
   "id": "06f15bdd",
   "metadata": {},
   "outputs": [
    {
     "data": {
      "text/plain": [
       "'СДР (специальные права заимствования)'"
      ]
     },
     "execution_count": 48,
     "metadata": {},
     "output_type": "execute_result"
    }
   ],
   "source": [
    "#Тестирование функции\n",
    "#valute_name_max_val()"
   ]
  },
  {
   "cell_type": "code",
   "execution_count": null,
   "id": "8f60eeae",
   "metadata": {},
   "outputs": [],
   "source": [
    "\n",
    "\n",
    "\n",
    "\n",
    "\n",
    "#Задание 2\n",
    "#Закоментил изменения в коде"
   ]
  },
  {
   "cell_type": "code",
   "execution_count": 44,
   "id": "15de414a",
   "metadata": {},
   "outputs": [],
   "source": [
    "import requests\n",
    "\n",
    "class Rate:\n",
    "    def __init__(self, format_='value', diff_='False'):\n",
    "        self.format = format_\n",
    "        self.diff = diff_ #Первое изменение в коде + параметр в __init__\n",
    "    \n",
    "    def exchange_rates(self):\n",
    "        \"\"\"\n",
    "        Возвращает ответ сервиса с информацией о валютах в виде:\n",
    "        \n",
    "        {\n",
    "            'AMD': {\n",
    "                'CharCode': 'AMD',\n",
    "                'ID': 'R01060',\n",
    "                'Name': 'Армянских драмов',\n",
    "                'Nominal': 100,\n",
    "                'NumCode': '051',\n",
    "                'Previous': 14.103,\n",
    "                'Value': 14.0879\n",
    "                },\n",
    "            ...\n",
    "        }\n",
    "        \"\"\"\n",
    "        self.r = requests.get('https://www.cbr-xml-daily.ru/daily_json.js')\n",
    "        return self.r.json()['Valute']\n",
    "    \n",
    "    def make_format(self, currency):\n",
    "        \"\"\"\n",
    "        Возвращает информацию о валюте currency в двух вариантах:\n",
    "        - полная информация о валюте при self.format = 'full':\n",
    "        Rate('full').make_format('EUR')\n",
    "        {\n",
    "            'CharCode': 'EUR',\n",
    "            'ID': 'R01239',\n",
    "            'Name': 'Евро',\n",
    "            'Nominal': 1,\n",
    "            'NumCode': '978',\n",
    "            'Previous': 79.6765,\n",
    "            'Value': 79.4966\n",
    "        }\n",
    "        \n",
    "        Rate('value').make_format('EUR')\n",
    "        79.4966\n",
    "        \"\"\"\n",
    "        response = self.exchange_rates()\n",
    "        \n",
    "        if currency in response:\n",
    "            if self.format == 'full':\n",
    "                return response[currency]\n",
    "            \n",
    "            if self.format == 'value':\n",
    "                if self.diff == 'True':#Второе изменение в коде\n",
    "                    return response[currency]['Value']-response[currency]['Previous']\n",
    "                else:\n",
    "                    return response[currency]['Value']\n",
    "        \n",
    "        return 'Error'\n",
    "    \n",
    "    def eur(self):\n",
    "        \"\"\"Возвращает курс евро на сегодня в формате self.format\"\"\"\n",
    "        return self.make_format('EUR')\n",
    "    \n",
    "    def usd(self):\n",
    "        \"\"\"Возвращает курс доллара на сегодня в формате self.format\"\"\"\n",
    "        return self.make_format('USD')\n",
    "    \n",
    "    def brl(self):\n",
    "        \"\"\"Возвращает курс бразильского реала на сегодня в формате self.format\"\"\"\n",
    "        return self.make_format('BRL')"
   ]
  },
  {
   "cell_type": "code",
   "execution_count": 43,
   "id": "ec437e2c",
   "metadata": {},
   "outputs": [
    {
     "data": {
      "text/plain": [
       "-1.2442999999999955"
      ]
     },
     "execution_count": 43,
     "metadata": {},
     "output_type": "execute_result"
    }
   ],
   "source": [
    "#Тестирование класса Rate\n",
    "#r = Rate(diff_='True')\n",
    "#r.usd()"
   ]
  },
  {
   "cell_type": "code",
   "execution_count": null,
   "id": "cfdea653",
   "metadata": {},
   "outputs": [],
   "source": [
    "\n",
    "\n",
    "\n",
    "\n",
    "\n",
    "#Задание 3"
   ]
  },
  {
   "cell_type": "code",
   "execution_count": 135,
   "id": "a0d51edb",
   "metadata": {},
   "outputs": [],
   "source": [
    "class Employee:\n",
    "    def __init__(self, name, seniority, bonus):\n",
    "        self.name = name\n",
    "        self.seniority = seniority\n",
    "        self.bonus = bonus\n",
    "        \n",
    "        self.grade = 1\n",
    "    \n",
    "    def grade_up(self):\n",
    "        \"\"\"Повышает уровень сотрудника\"\"\"\n",
    "        self.grade += 1\n",
    "    \n",
    "    def publish_grade(self):\n",
    "        \"\"\"Публикация результатов аккредитации сотрудников\"\"\"\n",
    "        print(self.name, self.grade)\n",
    "    \n",
    "    def check_if_it_is_time_for_upgrade(self):\n",
    "        pass"
   ]
  },
  {
   "cell_type": "code",
   "execution_count": 136,
   "id": "962beedb",
   "metadata": {},
   "outputs": [],
   "source": [
    "class Developer(Employee):\n",
    "    def __init__(self, name, seniority, bonus):\n",
    "        super().__init__(name, seniority, bonus)\n",
    "    \n",
    "    def check_if_it_is_time_for_upgrade(self):\n",
    "        # для каждой аккредитации увеличиваем счетчик на 1\n",
    "        # пока считаем, что все разработчики проходят аккредитацию\n",
    "        self.seniority += 1\n",
    "        \n",
    "        # условие повышения сотрудника из презентации\n",
    "        if self.seniority % 5 == 0:\n",
    "            self.grade_up()\n",
    "        \n",
    "        # публикация результатов\n",
    "        return self.publish_grade()"
   ]
  },
  {
   "cell_type": "code",
   "execution_count": 137,
   "id": "8651571c",
   "metadata": {},
   "outputs": [],
   "source": [
    "class Designer(Employee):\n",
    "    def __init__(self, name, seniority, bonus):\n",
    "        super().__init__(name, seniority, bonus)\n",
    "    \n",
    "    def check_if_it_is_time_for_bonus_upgrade(self):\n",
    "        # для каждой премии увеличиваем счетчик на 2\n",
    "        # пока считаем, что все дизайнеры могут получить международную премию\n",
    "        self.bonus += 2\n",
    "        \n",
    "        # условие повышения сотрудника из презентации\n",
    "        if self.bonus >= (7 * self.grade):\n",
    "            self.grade_up()\n",
    "        \n",
    "        # публикация результатов\n",
    "        return self.publish_grade()"
   ]
  },
  {
   "cell_type": "code",
   "execution_count": 138,
   "id": "f5d4f3af",
   "metadata": {},
   "outputs": [
    {
     "name": "stdout",
     "output_type": "stream",
     "text": [
      "Александр 1\n",
      "Александр 1\n",
      "Александр 2\n",
      "Александр 2\n",
      "Александр 2\n",
      "Александр 3\n",
      "Александр 3\n",
      "Александр 3\n",
      "Александр 3\n",
      "Александр 4\n",
      "Александр 4\n",
      "Александр 4\n",
      "Александр 5\n",
      "Александр 5\n",
      "Александр 5\n",
      "Александр 5\n",
      "Александр 6\n",
      "Александр 6\n",
      "Александр 6\n",
      "Александр 7\n"
     ]
    }
   ],
   "source": [
    "#Для проверки\n",
    "#alex = Designer('Александр', 2, 2)\n",
    "#for i in range(20):\n",
    "#    alex.check_if_it_is_time_for_bonus_upgrade()"
   ]
  },
  {
   "cell_type": "code",
   "execution_count": null,
   "id": "b8175435",
   "metadata": {},
   "outputs": [],
   "source": []
  }
 ],
 "metadata": {
  "kernelspec": {
   "display_name": "Python 3 (ipykernel)",
   "language": "python",
   "name": "python3"
  },
  "language_info": {
   "codemirror_mode": {
    "name": "ipython",
    "version": 3
   },
   "file_extension": ".py",
   "mimetype": "text/x-python",
   "name": "python",
   "nbconvert_exporter": "python",
   "pygments_lexer": "ipython3",
   "version": "3.9.7"
  }
 },
 "nbformat": 4,
 "nbformat_minor": 5
}

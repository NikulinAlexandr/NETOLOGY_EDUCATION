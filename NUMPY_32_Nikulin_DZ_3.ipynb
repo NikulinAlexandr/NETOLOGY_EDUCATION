{
 "cells": [
  {
   "cell_type": "code",
   "execution_count": 1,
   "id": "80764e94",
   "metadata": {},
   "outputs": [],
   "source": [
    "#Задание 1"
   ]
  },
  {
   "cell_type": "code",
   "execution_count": 10,
   "id": "732c7cf3",
   "metadata": {},
   "outputs": [
    {
     "data": {
      "text/html": [
       "<div>\n",
       "<style scoped>\n",
       "    .dataframe tbody tr th:only-of-type {\n",
       "        vertical-align: middle;\n",
       "    }\n",
       "\n",
       "    .dataframe tbody tr th {\n",
       "        vertical-align: top;\n",
       "    }\n",
       "\n",
       "    .dataframe thead th {\n",
       "        text-align: right;\n",
       "    }\n",
       "</style>\n",
       "<table border=\"1\" class=\"dataframe\">\n",
       "  <thead>\n",
       "    <tr style=\"text-align: right;\">\n",
       "      <th></th>\n",
       "      <th>userId</th>\n",
       "      <th>movieId</th>\n",
       "      <th>rating</th>\n",
       "      <th>timestamp</th>\n",
       "      <th>class</th>\n",
       "    </tr>\n",
       "  </thead>\n",
       "  <tbody>\n",
       "    <tr>\n",
       "      <th>0</th>\n",
       "      <td>1</td>\n",
       "      <td>296</td>\n",
       "      <td>5.0</td>\n",
       "      <td>1147880044</td>\n",
       "      <td>Высокий</td>\n",
       "    </tr>\n",
       "    <tr>\n",
       "      <th>1</th>\n",
       "      <td>1</td>\n",
       "      <td>306</td>\n",
       "      <td>3.5</td>\n",
       "      <td>1147868817</td>\n",
       "      <td>Средний</td>\n",
       "    </tr>\n",
       "    <tr>\n",
       "      <th>2</th>\n",
       "      <td>1</td>\n",
       "      <td>307</td>\n",
       "      <td>5.0</td>\n",
       "      <td>1147868828</td>\n",
       "      <td>Высокий</td>\n",
       "    </tr>\n",
       "    <tr>\n",
       "      <th>3</th>\n",
       "      <td>1</td>\n",
       "      <td>665</td>\n",
       "      <td>5.0</td>\n",
       "      <td>1147878820</td>\n",
       "      <td>Высокий</td>\n",
       "    </tr>\n",
       "    <tr>\n",
       "      <th>4</th>\n",
       "      <td>1</td>\n",
       "      <td>899</td>\n",
       "      <td>3.5</td>\n",
       "      <td>1147868510</td>\n",
       "      <td>Средний</td>\n",
       "    </tr>\n",
       "  </tbody>\n",
       "</table>\n",
       "</div>"
      ],
      "text/plain": [
       "   userId  movieId  rating   timestamp    class\n",
       "0       1      296     5.0  1147880044  Высокий\n",
       "1       1      306     3.5  1147868817  Средний\n",
       "2       1      307     5.0  1147868828  Высокий\n",
       "3       1      665     5.0  1147878820  Высокий\n",
       "4       1      899     3.5  1147868510  Средний"
      ]
     },
     "execution_count": 10,
     "metadata": {},
     "output_type": "execute_result"
    }
   ],
   "source": [
    "import pandas as pd\n",
    "#Функция для определения класса фильма (по рейтингу)\n",
    "def film_class(rate):\n",
    "    if rate <= 2:\n",
    "        return 'Низкий'\n",
    "    elif rate >2 and rate <= 4:\n",
    "        return 'Средний'\n",
    "    else:\n",
    "        return 'Высокий'\n",
    "    \n",
    "ratings = pd.read_csv('C:\\\\ml-25m\\\\ratings.csv')\n",
    "ratings['class'] = ratings['rating'].apply(film_class)\n",
    "#ratings.head()"
   ]
  },
  {
   "cell_type": "code",
   "execution_count": null,
   "id": "e8e057b0",
   "metadata": {},
   "outputs": [],
   "source": [
    "#Задание 2"
   ]
  },
  {
   "cell_type": "code",
   "execution_count": 138,
   "id": "4ac1c68c",
   "metadata": {},
   "outputs": [],
   "source": [
    "geo_data = {\n",
    "'Центр': ['москва', 'тула', 'ярославль'],\n",
    "'Северо-Запад': ['петербург', 'псков', 'мурманск'],\n",
    "'Дальний Восток': ['владивосток', 'сахалин', 'хабаровск']\n",
    "}\n",
    "\n",
    "def query_region(query_text):\n",
    "    reg_list=[] #Создается список всех возможных городов для мэппинга.\n",
    "    for regs in geo_data.keys():\n",
    "        reg_list = reg_list + geo_data[regs]\n",
    "    if query_text in reg_list: #проверка есть ли значение в списке городов для мэппинга\n",
    "        for reg in geo_data.keys():#если есть - мэппинг региона\n",
    "            if query_text in geo_data[reg]:\n",
    "                return reg\n",
    "    else: return 'undefined'#если нет - проставляется \"undefined\"\n",
    "\n",
    "keywords = pd.read_csv('C:\\\\ml-latest-small\\\\keywords.csv')\n",
    "keywords['region'] = keywords['keyword'].apply(query_region)\n",
    "#Для проверки\n",
    "#keywords.query(\"keyword in ['москва', 'тула', 'ярославль', 'петербург', 'псков', 'мурманск', 'владивосток', 'сахалин', 'хабаровск']\")"
   ]
  },
  {
   "cell_type": "code",
   "execution_count": null,
   "id": "ebb262a6",
   "metadata": {},
   "outputs": [],
   "source": [
    "#Задание 3"
   ]
  },
  {
   "cell_type": "code",
   "execution_count": 223,
   "id": "0cac4a17",
   "metadata": {},
   "outputs": [
    {
     "data": {
      "text/plain": [
       "year\n",
       "1987    3.744983\n",
       "1952    3.742160\n",
       "1950    3.730357\n",
       "1957    3.711310\n",
       "1981    3.680346\n",
       "          ...   \n",
       "1971    3.476636\n",
       "2005    3.468900\n",
       "1962    3.467128\n",
       "2006    3.439530\n",
       "1967    3.351282\n",
       "Name: rating, Length: 61, dtype: float64"
      ]
     },
     "execution_count": 223,
     "metadata": {},
     "output_type": "execute_result"
    }
   ],
   "source": [
    "ratings = pd.read_csv('C:\\\\ml-25m\\\\ratings.csv')\n",
    "movies = pd.read_csv('C:\\\\ml-25m\\\\movies.csv')\n",
    "year_list = [str(x) for x in list(range(1950,2011))]#создание списка дат\n",
    "def film_year(title):\n",
    "    for row in title:\n",
    "        for film_year in year_list:\n",
    "            if film_year in title:\n",
    "                return film_year\n",
    "    else: return '1990'\n",
    "\n",
    "movies['year']=movies['title'].apply(film_year)\n",
    "movies.join(ratings, rsuffix='_other').groupby('year').mean()['rating'].sort_values(ascending=False)"
   ]
  },
  {
   "cell_type": "code",
   "execution_count": null,
   "id": "eb1dfffb",
   "metadata": {},
   "outputs": [],
   "source": []
  }
 ],
 "metadata": {
  "kernelspec": {
   "display_name": "Python 3 (ipykernel)",
   "language": "python",
   "name": "python3"
  },
  "language_info": {
   "codemirror_mode": {
    "name": "ipython",
    "version": 3
   },
   "file_extension": ".py",
   "mimetype": "text/x-python",
   "name": "python",
   "nbconvert_exporter": "python",
   "pygments_lexer": "ipython3",
   "version": "3.9.7"
  }
 },
 "nbformat": 4,
 "nbformat_minor": 5
}

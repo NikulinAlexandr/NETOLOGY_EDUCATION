{
 "cells": [
  {
   "cell_type": "code",
   "execution_count": null,
   "id": "c2372b05",
   "metadata": {},
   "outputs": [],
   "source": [
    "\"Задание 1\""
   ]
  },
  {
   "cell_type": "code",
   "execution_count": 32,
   "id": "0ff9dd9b",
   "metadata": {},
   "outputs": [],
   "source": [
    "paper_1 = 'The Moscow Times - Wednesday, October 2, 2002'\n",
    "paper_2 = 'The Guardian - Friday, 11.10.13'\n",
    "paper_3 = 'Daily News - Thursday, 18 August 1977'\n",
    "import datetime\n",
    "paper_info_1 = date_1.split(' - ')\n",
    "result1 = datetime.datetime.strptime(paper_info_1[1], '%A, %B %w, %Y')\n",
    "paper_info_2 = date_2.split(' - ')\n",
    "result2 = datetime.datetime.strptime(paper_info_2[1], '%A, %d.%m.%y')\n",
    "paper_info_3 = date_3.split(' - ')\n",
    "result3 = datetime.datetime.strptime(paper_info_3[1], '%A, %d %B %Y')"
   ]
  },
  {
   "cell_type": "code",
   "execution_count": null,
   "id": "528579b9",
   "metadata": {},
   "outputs": [],
   "source": [
    "\"Задание 2\""
   ]
  },
  {
   "cell_type": "code",
   "execution_count": 33,
   "id": "4b4bc3d5",
   "metadata": {},
   "outputs": [],
   "source": [
    "stream = ['2018-04-02', '2018-02-29', '2018-19-02']\n",
    "def correct_date(list_date):\n",
    "    import datetime\n",
    "    for try_date in list_date:\n",
    "        try:\n",
    "            datetime.datetime.strptime(try_date, '%Y-%m-%d')\n",
    "            print(f\"{try_date} - дата корректна\")\n",
    "        except:\n",
    "            print(f\"{try_date} - дата некорректна\")\n",
    "#correct_date(stream)"
   ]
  },
  {
   "cell_type": "code",
   "execution_count": null,
   "id": "49de6a6a",
   "metadata": {},
   "outputs": [],
   "source": [
    "\"Задание 3\""
   ]
  },
  {
   "cell_type": "code",
   "execution_count": 85,
   "id": "0f36be26",
   "metadata": {},
   "outputs": [
    {
     "name": "stdout",
     "output_type": "stream",
     "text": [
      "Введите стартовую дату в формате \"YYYY-MM-DD\": 2022-01-01\n",
      "Введите конечную дату в формате \"YYYY-MM-DD\": 3333-66-66\n",
      "Ошибка ввода данных!\n",
      "Некорректный формат конечной даты - 3333-66-66\n"
     ]
    }
   ],
   "source": [
    "#Немного заморочился и обработал возможные ошибки\n",
    "def date_range():\n",
    "    start_date = str(input('Введите стартовую дату в формате \"YYYY-MM-DD\": '))\n",
    "    end_date = str(input('Введите конечную дату в формате \"YYYY-MM-DD\": '))\n",
    "    try:\n",
    "        import datetime\n",
    "        start_date_dt = datetime.datetime.strptime(start_date, '%Y-%m-%d')\n",
    "        end_date_dt = datetime.datetime.strptime(end_date, '%Y-%m-%d')\n",
    "        if start_date_dt < end_date_dt:\n",
    "            current_date_dt = start_date_dt\n",
    "            while current_date_dt <= end_date_dt:\n",
    "                print(current_date_dt.strftime('%Y-%m-%d'))\n",
    "                current_date_dt += datetime.timedelta(days = 1)\n",
    "        else:\n",
    "            print(f'Ошибка!\\nНачальная дата ({start_date}) меньше конечной ({end_date})')\n",
    "    except:\n",
    "        print('Ошибка ввода данных!')\n",
    "        try:\n",
    "            datetime.datetime.strptime(start_date, '%Y-%m-%d')\n",
    "        except:\n",
    "            print(f'Некорректный формат стартовой даты - {start_date}')\n",
    "        try:\n",
    "            datetime.datetime.strptime(end_date, '%Y-%m-%d')\n",
    "        except:\n",
    "            print(f'Некорректный формат конечной даты - {end_date}')\n",
    "\n",
    "#date_range()"
   ]
  },
  {
   "cell_type": "code",
   "execution_count": 92,
   "id": "cd15b352",
   "metadata": {},
   "outputs": [
    {
     "name": "stdout",
     "output_type": "stream",
     "text": [
      "Введите стартовую дату в формате \"YYYY-MM-DD\": 2\n",
      "Введите конечную дату в формате \"YYYY-MM-DD\": 3\n",
      "\n"
     ]
    }
   ],
   "source": [
    "#То же самое без обработки ошибок\n",
    "def date_range():\n",
    "    start_date = str(input('Введите стартовую дату в формате \"YYYY-MM-DD\": '))\n",
    "    end_date = str(input('Введите конечную дату в формате \"YYYY-MM-DD\": '))\n",
    "    try:\n",
    "        import datetime\n",
    "        start_date_dt = datetime.datetime.strptime(start_date, '%Y-%m-%d')\n",
    "        end_date_dt = datetime.datetime.strptime(end_date, '%Y-%m-%d')\n",
    "        while current_date_dt <= end_date_dt:\n",
    "            print(current_date_dt.strftime('%Y-%m-%d'))\n",
    "            current_date_dt += datetime.timedelta(days = 1)\n",
    "    except:\n",
    "        print('')\n",
    "\n",
    "#date_range()"
   ]
  },
  {
   "cell_type": "code",
   "execution_count": null,
   "id": "c58d99f6",
   "metadata": {},
   "outputs": [],
   "source": [
    "\"Задание 4\""
   ]
  },
  {
   "cell_type": "code",
   "execution_count": 112,
   "id": "cecbd0a7",
   "metadata": {},
   "outputs": [
    {
     "name": "stdout",
     "output_type": "stream",
     "text": [
      "['A100', 'A101']\n",
      "A101\n",
      "['A100']\n"
     ]
    },
    {
     "ename": "IndexError",
     "evalue": "list index out of range",
     "output_type": "error",
     "traceback": [
      "\u001b[1;31m---------------------------------------------------------------------------\u001b[0m",
      "\u001b[1;31mIndexError\u001b[0m                                Traceback (most recent call last)",
      "\u001b[1;32m~\\AppData\\Local\\Temp/ipykernel_16544/87163249.py\u001b[0m in \u001b[0;36m<module>\u001b[1;34m\u001b[0m\n\u001b[0;32m     13\u001b[0m \u001b[1;31m#delete_and_return_last_user(1)\u001b[0m\u001b[1;33m\u001b[0m\u001b[1;33m\u001b[0m\u001b[0m\n\u001b[0;32m     14\u001b[0m \u001b[0mprint\u001b[0m\u001b[1;33m(\u001b[0m\u001b[0mdelete_and_return_last_user\u001b[0m\u001b[1;33m(\u001b[0m\u001b[1;36m1\u001b[0m\u001b[1;33m)\u001b[0m\u001b[1;33m)\u001b[0m\u001b[1;33m\u001b[0m\u001b[1;33m\u001b[0m\u001b[0m\n\u001b[1;32m---> 15\u001b[1;33m \u001b[0mprint\u001b[0m\u001b[1;33m(\u001b[0m\u001b[0mdelete_and_return_last_user\u001b[0m\u001b[1;33m(\u001b[0m\u001b[1;36m1\u001b[0m\u001b[1;33m)\u001b[0m\u001b[1;33m)\u001b[0m\u001b[1;33m\u001b[0m\u001b[1;33m\u001b[0m\u001b[0m\n\u001b[0m\u001b[0;32m     16\u001b[0m \u001b[1;33m\u001b[0m\u001b[0m\n\u001b[0;32m     17\u001b[0m \"\"\"\n",
      "\u001b[1;32m~\\AppData\\Local\\Temp/ipykernel_16544/87163249.py\u001b[0m in \u001b[0;36mdelete_and_return_last_user\u001b[1;34m(region, default_list)\u001b[0m\n\u001b[0;32m      9\u001b[0m     \u001b[0mdefault_list\u001b[0m\u001b[1;33m.\u001b[0m\u001b[0mremove\u001b[0m\u001b[1;33m(\u001b[0m\u001b[0melement_to_delete\u001b[0m\u001b[1;33m)\u001b[0m\u001b[1;33m\u001b[0m\u001b[1;33m\u001b[0m\u001b[0m\n\u001b[0;32m     10\u001b[0m     \u001b[0mprint\u001b[0m\u001b[1;33m(\u001b[0m\u001b[0mdefault_list\u001b[0m\u001b[1;33m)\u001b[0m\u001b[1;33m\u001b[0m\u001b[1;33m\u001b[0m\u001b[0m\n\u001b[1;32m---> 11\u001b[1;33m     \u001b[1;32mreturn\u001b[0m \u001b[0mdefault_list\u001b[0m\u001b[1;33m[\u001b[0m\u001b[0mDEFAULT_USER_COUNT\u001b[0m\u001b[1;33m-\u001b[0m\u001b[1;36m2\u001b[0m\u001b[1;33m]\u001b[0m\u001b[1;33m\u001b[0m\u001b[1;33m\u001b[0m\u001b[0m\n\u001b[0m\u001b[0;32m     12\u001b[0m \u001b[1;33m\u001b[0m\u001b[0m\n\u001b[0;32m     13\u001b[0m \u001b[1;31m#delete_and_return_last_user(1)\u001b[0m\u001b[1;33m\u001b[0m\u001b[1;33m\u001b[0m\u001b[0m\n",
      "\u001b[1;31mIndexError\u001b[0m: list index out of range"
     ]
    }
   ],
   "source": [
    "DEFAULT_USER_COUNT = 3\n",
    "\n",
    "def delete_and_return_last_user(region, default_list=['A100', 'A101', 'A102']):\n",
    "    \"\"\"\n",
    "    Удаляет из списка default_list последнего пользователя\n",
    "    и возвращает ID нового последнего пользователя.\n",
    "    \"\"\"\n",
    "    element_to_delete = default_list[-1]\n",
    "    default_list.remove(element_to_delete)\n",
    "    print(default_list) # Добавил для демонстрации того, что происходит внутри цикла\n",
    "    return default_list[DEFAULT_USER_COUNT-2]\n",
    "\n",
    "#delete_and_return_last_user(1)\n",
    "print(delete_and_return_last_user(1))#1й прогон\n",
    "print(delete_and_return_last_user(1))#2й прогон\n",
    "\n",
    "\"\"\"\n",
    "list index out of range - индекс списка вне диапазона, собственно означает что в списке нет элемента с запрашиваемым индексом\n",
    "\n",
    "Почему возникает:\n",
    "\n",
    "Переменная DEFAULT_USER_COUNT принимает фиксированное значение (3)\n",
    "После первого прогона \"список по умолчанию\" (default_list) состоит из 3х элементов.\n",
    "В результате работы функции в первый раз - последний элемент удаляется и список становится длинной 2 ['A100', 'A101'],\n",
    "функция возращает элемент списка с индексом 1 ((DEFAULT_USER_COUNT-2) или (3-2) т.е default_list[1]) - 'A101'\n",
    "\n",
    "В результате работы функции во второй раз - опять удаляется последний элемент из списка и список становится ['A100'],\n",
    "функция возращает элемент списка с индексом 1 (DEFAULT_USER_COUNT-2) или (3-2) т.е default_list[1],\n",
    "а такого элемента нет в списке, что и вызывает ошибку\n",
    "\"\"\""
   ]
  },
  {
   "cell_type": "code",
   "execution_count": null,
   "id": "f969a636",
   "metadata": {},
   "outputs": [],
   "source": []
  }
 ],
 "metadata": {
  "kernelspec": {
   "display_name": "Python 3 (ipykernel)",
   "language": "python",
   "name": "python3"
  },
  "language_info": {
   "codemirror_mode": {
    "name": "ipython",
    "version": 3
   },
   "file_extension": ".py",
   "mimetype": "text/x-python",
   "name": "python",
   "nbconvert_exporter": "python",
   "pygments_lexer": "ipython3",
   "version": "3.9.7"
  }
 },
 "nbformat": 4,
 "nbformat_minor": 5
}

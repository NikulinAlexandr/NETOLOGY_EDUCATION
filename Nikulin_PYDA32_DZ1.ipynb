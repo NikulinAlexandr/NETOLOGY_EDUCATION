{
  "nbformat": 4,
  "nbformat_minor": 0,
  "metadata": {
    "colab": {
      "name": "Nikulin_PYDA32_DZ1.ipynb",
      "provenance": [],
      "collapsed_sections": []
    },
    "kernelspec": {
      "name": "python3",
      "display_name": "Python 3"
    },
    "language_info": {
      "name": "python"
    }
  },
  "cells": [
    {
      "cell_type": "markdown",
      "source": [
        "Задание 1"
      ],
      "metadata": {
        "id": "do8h_Mrccvok"
      }
    },
    {
      "cell_type": "code",
      "execution_count": null,
      "metadata": {
        "colab": {
          "base_uri": "https://localhost:8080/"
        },
        "id": "yHsK2AmfXVyq",
        "outputId": "90d9093f-9284-4d5c-b538-1c44d3e193ad"
      },
      "outputs": [
        {
          "output_type": "stream",
          "name": "stdout",
          "text": [
            "Введите первую фразу \n",
            "Введите вторую фразу \n",
            "Фразы равной длины\n"
          ]
        }
      ],
      "source": [
        "phrase_1 = input('Введите первую фразу: ')\n",
        "phrase_2 = input('Введите вторую фразу: ')\n",
        "if len(phrase_1)==len(phrase_2):\n",
        "  print('Фразы равной длины')\n",
        "elif len(phrase_1) > len(phrase_2):\n",
        "  print('Фраза 1 длиннее фразы 2')\n",
        "else:\n",
        "  print('Фраза 2 длиннее фразы 1')\n"
      ]
    },
    {
      "cell_type": "markdown",
      "source": [
        "Задание 2"
      ],
      "metadata": {
        "id": "m4W4Pfgcc0j2"
      }
    },
    {
      "cell_type": "code",
      "source": [
        "year = input('Введите год в формате \"YYYY\": ')\n",
        "if len(str(year))==4:\n",
        "  if int(year)%4 ==0:\n",
        "    print('Високосный год')\n",
        "  else:\n",
        "    print('Обычный год')\n",
        "else:\n",
        "  print('Некорректный формат года')"
      ],
      "metadata": {
        "colab": {
          "base_uri": "https://localhost:8080/"
        },
        "id": "RhAMoJfBctW7",
        "outputId": "35316c13-9327-43ac-90e4-b5610166adfb"
      },
      "execution_count": 43,
      "outputs": [
        {
          "output_type": "stream",
          "name": "stdout",
          "text": [
            "Введите год в виде \"YYYY\"00004\n",
            "Некорректный формат года\n"
          ]
        }
      ]
    },
    {
      "cell_type": "markdown",
      "source": [
        "Задание 3"
      ],
      "metadata": {
        "id": "P2FzBR-arOnT"
      }
    },
    {
      "cell_type": "code",
      "source": [
        "day = int(input('Введите день рождения: '))\n",
        "month = input('Введите месяц рождения (прописью): ')\n",
        "if month.upper()=='ЯНВАРЬ':\n",
        "  if day<21:\n",
        "    print('Козерог')\n",
        "  else:\n",
        "    print('Водолей')\n",
        "elif month.upper()=='ФЕВРАЛЬ':\n",
        "  if day<20:\n",
        "    print('Водолей')\n",
        "  else:\n",
        "    print('Рыбы')\n",
        "elif month.upper()=='МАРТ':\n",
        "  if day<21:\n",
        "    print('Рыбы')\n",
        "  else:\n",
        "    print('Овен')\n",
        "elif month.upper()=='АПРЕЛЬ':\n",
        "  if day<21:\n",
        "    print('Овен')\n",
        "  else:\n",
        "    print('Телец')\n",
        "elif month.upper()=='МАЙ':\n",
        "  if day<22:\n",
        "    print('Телец')\n",
        "  else:\n",
        "    print('Близнецы')\n",
        "elif month.upper()=='ИЮНЬ':\n",
        "  if day<22:\n",
        "    print('Близнецы')\n",
        "  else:\n",
        "    print('Рак')\n",
        "elif month.upper()=='ИЮЛЬ':\n",
        "  if day<23:\n",
        "    print('Рак')\n",
        "  else:\n",
        "    print('Лев')\n",
        "elif month.upper()=='АВГУСТ':\n",
        "  if day<24:\n",
        "    print('Лев')\n",
        "  else:\n",
        "    print('Дева')\n",
        "elif month.upper()=='СЕНТЯБРЬ':\n",
        "  if day<23:\n",
        "    print('Дева')\n",
        "  else:\n",
        "    print('Весы')\n",
        "elif month.upper()=='ОКТЯБРЬ':\n",
        "  if day<23:\n",
        "    print('Весы')\n",
        "  else:\n",
        "    print('Скорпион')\n",
        "elif month.upper()=='НОЯБРЬ':\n",
        "  if day<23:\n",
        "    print('Скорпион')\n",
        "  else:\n",
        "    print('Стрелец')\n",
        "elif month.upper()=='ДЕКАБРЬ':\n",
        "  if day<22:\n",
        "    print('Стрелец')\n",
        "  else:\n",
        "    print('Козерог')\n",
        "else:\n",
        "  print('Ты эльф')"
      ],
      "metadata": {
        "colab": {
          "base_uri": "https://localhost:8080/"
        },
        "id": "AzKR5uFlrRrR",
        "outputId": "5f82c9c9-8957-45ba-8d32-dd78d4ea66d4"
      },
      "execution_count": 59,
      "outputs": [
        {
          "output_type": "stream",
          "name": "stdout",
          "text": [
            "Введите день рождения: 11\n",
            "Введите месяц рождения (прописью): Май\n",
            "Телец\n"
          ]
        }
      ]
    },
    {
      "cell_type": "markdown",
      "source": [
        "Задание 4"
      ],
      "metadata": {
        "id": "tICwgZce1TGi"
      }
    },
    {
      "cell_type": "code",
      "source": [
        "width = int(input('Ширина: '))\n",
        "length = int(input('Длинна: '))\n",
        "height = int(input('Высота: '))\n",
        "if length<15 and width<15 and height<15:\n",
        "  print('Коробка №1')\n",
        "elif width>50 or (50<length<200) or height>50:\n",
        "  print('Коробка №2')\n",
        "elif length>=200:\n",
        "  print('Упаковка для лыж')\n",
        "else:\n",
        "  print('Стандарная коробка №3')"
      ],
      "metadata": {
        "colab": {
          "base_uri": "https://localhost:8080/"
        },
        "id": "sC-g0KY-1VJf",
        "outputId": "68530cb8-22bc-4af0-b1ca-35623e7e9e21"
      },
      "execution_count": 76,
      "outputs": [
        {
          "output_type": "stream",
          "name": "stdout",
          "text": [
            "Ширина: 22\n",
            "Длинна: 222\n",
            "Высота: 222\n",
            "Коробка №2\n"
          ]
        }
      ]
    },
    {
      "cell_type": "markdown",
      "source": [
        "Задание 5"
      ],
      "metadata": {
        "id": "u-lTkpJ2QJ24"
      }
    },
    {
      "cell_type": "code",
      "source": [
        "ticket_No = int(input('Введите номер билета (6 цифр): '))\n",
        "if len(str(ticket_No))==6:\n",
        "  if (int(str(ticket_No)[0])+int(str(ticket_No)[1])+int(str(ticket_No)[2]))==(int(str(ticket_No)[3])+int(str(ticket_No)[4])+int(str(ticket_No)[5])):\n",
        "    print('Счастливый билет')\n",
        "  else:\n",
        "    print('Несчастливый билет')\n",
        "else:\n",
        "  print('Некорректный номер билета')"
      ],
      "metadata": {
        "colab": {
          "base_uri": "https://localhost:8080/"
        },
        "id": "IIppqny2QMhl",
        "outputId": "8044059a-3234-458a-d2c0-36e9705db9e9"
      },
      "execution_count": 40,
      "outputs": [
        {
          "output_type": "stream",
          "name": "stdout",
          "text": [
            "Введите номер билета (6 цифр): 123456\n",
            "Несчастливый билет\n"
          ]
        }
      ]
    },
    {
      "cell_type": "markdown",
      "source": [
        "Задание 6"
      ],
      "metadata": {
        "id": "eG1TrcdMYtcG"
      }
    },
    {
      "cell_type": "code",
      "source": [
        "shape = input('Введите тип фигуры (круг, треугольник, прямоугольник):')\n",
        "if shape.upper()=='КРУГ':\n",
        "  r=float(input('Введите радиус круга: '))\n",
        "  print('Площадь круга = '+str(3.14*r*r))\n",
        "elif shape.upper()=='ПРЯМОУГОЛЬНИК' or shape.upper()=='КВАДРАТ':\n",
        "  if shape.upper()=='КВАДРАТ':\n",
        "      a=float(input('Введите длину стороны квадрата: '))\n",
        "      print('Площадь квадрата = '+str(a*a))\n",
        "  else:\n",
        "    a=float(input('Введите длину одной стороны: '))\n",
        "    b=float(input('Введите длину другой стороны: '))\n",
        "    print('Площадь прямоугольника = '+str(a*b))\n",
        "elif shape.upper()=='ТРЕУГОЛЬНИК':\n",
        "  a=float(input('Введите длину одной стороны: '))\n",
        "  b=float(input('Введите длину другой стороны: '))\n",
        "  c=float(input('Введите длину третьей стороны: '))\n",
        "## проверка является ли фигура треугольником\n",
        "  if a+b>c and a+c>b and c+b>2:\n",
        "    ## p - полупериметр (нужен для расчета площади треуголника)\n",
        "    p=(a+b+c)/2\n",
        "    import math\n",
        "    print('Площадь треугольника = '+ str(math.sqrt(p*(p-a)*(p-b)*(p-c))))\n",
        "  else:\n",
        "    print('Такого треугольника не существует!')\n",
        "else:\n",
        "  print('Вы выбрали другую фигуру. Я не умею чситать ее площадь!')"
      ],
      "metadata": {
        "colab": {
          "base_uri": "https://localhost:8080/"
        },
        "id": "d-9_WTRLYv4P",
        "outputId": "bdce4b56-f592-4503-a0b2-b5ae1e2c5786"
      },
      "execution_count": 65,
      "outputs": [
        {
          "output_type": "stream",
          "name": "stdout",
          "text": [
            "Введите тип фигуры (круг, треугольник, прямоугольник):прямоугольник\n",
            "Введите длину одной стороны: 1\n",
            "Введите длину другой стороны: 12\n",
            "Площадь прямоугольника = 12.0\n"
          ]
        }
      ]
    }
  ]
}
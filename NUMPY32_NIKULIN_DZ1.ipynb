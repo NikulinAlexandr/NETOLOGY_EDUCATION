{
 "cells": [
  {
   "cell_type": "code",
   "execution_count": null,
   "id": "0cf3a5e4",
   "metadata": {},
   "outputs": [],
   "source": [
    "#Задание 1"
   ]
  },
  {
   "cell_type": "code",
   "execution_count": null,
   "id": "a46ac2af",
   "metadata": {},
   "outputs": [],
   "source": [
    "# add row 2"
   ]
  },
  {
   "cell_type": "code",
   "execution_count": 19,
   "id": "cf4013a5",
   "metadata": {},
   "outputs": [
    {
     "name": "stdout",
     "output_type": "stream",
     "text": [
      "Введите кол-во элементов: 4\n",
      "[3 2 1 0]\n",
      "[4 3 2 1 0]\n"
     ]
    }
   ],
   "source": [
    "import numpy as np\n",
    "N = int(input('Введите кол-во элементов N: '))\n",
    "y = - np.sort(- np.arange(N))\n",
    "#print(y) #Посмотреть результат\n",
    "#Странное решение, но работает) не нашел как сделать сортировку по убыванию, по этому сделал массив из отрицательных чисел, отсотрировал и убрал минусы"
   ]
  },
  {
   "cell_type": "code",
   "execution_count": null,
   "id": "b783b1fd",
   "metadata": {},
   "outputs": [],
   "source": [
    "#Задание 2"
   ]
  },
  {
   "cell_type": "code",
   "execution_count": 27,
   "id": "f4b562f5",
   "metadata": {
    "scrolled": true
   },
   "outputs": [
    {
     "name": "stdout",
     "output_type": "stream",
     "text": [
      "Введите кол-во элементов диагональной матрицы: 5\n",
      "[[5 0 0 0 0 0]\n",
      " [0 4 0 0 0 0]\n",
      " [0 0 3 0 0 0]\n",
      " [0 0 0 2 0 0]\n",
      " [0 0 0 0 1 0]\n",
      " [0 0 0 0 0 0]]\n",
      "15\n"
     ]
    }
   ],
   "source": [
    "N = int(input('Введите кол-во элементов N: '))\n",
    "mat = np.trace(np.diag(np.full(N +1 , - np.sort(- np.arange(N + 1))))) # Для построения матрицы берется за основу решение задачи 1, но добавляется 1 элемент в матрицу\n",
    "#print(np.diag(np.full(N +1 , - np.sort(- np.arange(N + 1)))))#Посмотреть матрицу\n",
    "#print(mat) #Посмотреть результат расчета"
   ]
  },
  {
   "cell_type": "code",
   "execution_count": null,
   "id": "10c13d47",
   "metadata": {},
   "outputs": [],
   "source": [
    "#Задание 3"
   ]
  },
  {
   "cell_type": "code",
   "execution_count": 30,
   "id": "f2fdec08",
   "metadata": {},
   "outputs": [
    {
     "name": "stdout",
     "output_type": "stream",
     "text": [
      "[ 0.46666667  3.84444444 -5.55555556]\n"
     ]
    }
   ],
   "source": [
    "from numpy import linalg\n",
    "a = np.array([[4, 2, 1], [1, 3, 0], [0, 5, 4]]) #Левая часть уравнений\n",
    "b = np.array([4, 12, -3]) #Правая часть уравнений\n",
    "result = linalg.solve(a, b)\n",
    "#print(result)#Посмотреть результат расчета"
   ]
  },
  {
   "cell_type": "code",
   "execution_count": null,
   "id": "3c320b98",
   "metadata": {},
   "outputs": [],
   "source": [
    "#Задание 4"
   ]
  },
  {
   "cell_type": "code",
   "execution_count": 34,
   "id": "209bac48",
   "metadata": {},
   "outputs": [],
   "source": [
    "#Входные данные\n",
    "users_stats = np.array(\n",
    "    [\n",
    "        [2, 1, 0, 0, 0, 0],\n",
    "        [1, 1, 2, 1, 0, 0],\n",
    "        [2, 0, 1, 0, 0, 0],\n",
    "        [1, 1, 2, 1, 0, 1],\n",
    "        [0, 0, 1, 2, 0, 0],\n",
    "        [0, 0, 0, 0, 0, 5],\n",
    "        [1, 0, 0, 0, 0, 0],\n",
    "        [0, 1, 1, 0, 0, 0],\n",
    "        [0, 0, 0, 1, 1, 3],\n",
    "        [1, 0, 0, 2, 1, 4]\n",
    "    ], \n",
    "    np.int32\n",
    ")\n",
    "next_user_stats = np.array([0, 1, 2, 0, 0, 0])"
   ]
  },
  {
   "cell_type": "code",
   "execution_count": 55,
   "id": "ea53844a",
   "metadata": {},
   "outputs": [
    {
     "name": "stdout",
     "output_type": "stream",
     "text": [
      "0.19999999999999996\n",
      "0.8451542547285165\n",
      "0.3999999999999999\n",
      "0.7905694150420948\n",
      "0.3999999999999999\n",
      "0.0\n",
      "0.0\n",
      "0.9486832980505138\n",
      "0.0\n",
      "0.0\n",
      "8\n",
      "0.19999999999999996\n"
     ]
    }
   ],
   "source": [
    "def cosine( a, b ): #Честно экспроприировал из лекции\n",
    "    \"\"\"\n",
    "    Подсчет косинуса угла между векторами a, b по их координатам\n",
    "    \"\"\"\n",
    "    \n",
    "    # длины векторов\n",
    "    aLength = np.linalg.norm( a )\n",
    "    bLength = np.linalg.norm( b )\n",
    "    \n",
    "    return np.dot( a, b ) / ( aLength * bLength )"
   ]
  },
  {
   "cell_type": "code",
   "execution_count": 57,
   "id": "4cdd17f0",
   "metadata": {},
   "outputs": [
    {
     "name": "stdout",
     "output_type": "stream",
     "text": [
      "8\n"
     ]
    }
   ],
   "source": [
    "i = 0\n",
    "result = 0\n",
    "max_match_value = 0\n",
    "#Думаю, что через while редко кто делает решение.\n",
    "while i < len(users_stats) :\n",
    "    if max_match_value < cosine(users_stats[i], next_user_stats):#Проверка является ли косинусное сходство максимально близким\n",
    "        max_match_value = cosine(users_stats[i], next_user_stats)#Если да - добавляем новое значение для максимально зафиксированного значения косинусного сходства\n",
    "        result = i + 1 #и проставляем номер(id) пользователя, для которого зафиксировано максимальное сходство (+1 т.к нумерация пользователя логично начинать с 1, а не с 0)\n",
    "    i += 1\n",
    "#result - номер(id) самого похожего пользователя\n",
    "#print(result)#Посмотреть результат расчета\n",
    "\n",
    "\n",
    "#Решение не универсально т.к. в случае, если подходящих пользователей окажется 2 или больше\n",
    "#в результат выведется 1 пользователь с минимальным номером(id), а корректно выводить всех."
   ]
  },
  {
   "cell_type": "code",
   "execution_count": null,
   "id": "dbd691ac",
   "metadata": {},
   "outputs": [],
   "source": []
  }
 ],
 "metadata": {
  "kernelspec": {
   "display_name": "Python 3 (ipykernel)",
   "language": "python",
   "name": "python3"
  },
  "language_info": {
   "codemirror_mode": {
    "name": "ipython",
    "version": 3
   },
   "file_extension": ".py",
   "mimetype": "text/x-python",
   "name": "python",
   "nbconvert_exporter": "python",
   "pygments_lexer": "ipython3",
   "version": "3.9.7"
  }
 },
 "nbformat": 4,
 "nbformat_minor": 5
}
